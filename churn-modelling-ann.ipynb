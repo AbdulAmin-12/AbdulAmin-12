{
 "cells": [
  {
   "cell_type": "code",
   "execution_count": 1,
   "id": "5834fb31",
   "metadata": {
    "_cell_guid": "b1076dfc-b9ad-4769-8c92-a6c4dae69d19",
    "_uuid": "8f2839f25d086af736a60e9eeb907d3b93b6e0e5",
    "execution": {
     "iopub.execute_input": "2022-04-07T08:54:38.037655Z",
     "iopub.status.busy": "2022-04-07T08:54:38.030230Z",
     "iopub.status.idle": "2022-04-07T08:54:38.051279Z",
     "shell.execute_reply": "2022-04-07T08:54:38.051914Z",
     "shell.execute_reply.started": "2022-04-07T08:09:55.960520Z"
    },
    "papermill": {
     "duration": 0.056292,
     "end_time": "2022-04-07T08:54:38.052209",
     "exception": false,
     "start_time": "2022-04-07T08:54:37.995917",
     "status": "completed"
    },
    "tags": []
   },
   "outputs": [
    {
     "name": "stdout",
     "output_type": "stream",
     "text": [
      "/kaggle/input/churn-modelling/Churn_Modelling.csv\n"
     ]
    }
   ],
   "source": [
    "# This Python 3 environment comes with many helpful analytics libraries installed\n",
    "# It is defined by the kaggle/python Docker image: https://github.com/kaggle/docker-python\n",
    "# For example, here's several helpful packages to load\n",
    "\n",
    "import numpy as np # linear algebra\n",
    "import pandas as pd # data processing, CSV file I/O (e.g. pd.read_csv)\n",
    "\n",
    "# Input data files are available in the read-only \"../input/\" directory\n",
    "# For example, running this (by clicking run or pressing Shift+Enter) will list all files under the input directory\n",
    "\n",
    "import os\n",
    "for dirname, _, filenames in os.walk('/kaggle/input'):\n",
    "    for filename in filenames:\n",
    "        print(os.path.join(dirname, filename))\n",
    "\n",
    "# You can write up to 20GB to the current directory (/kaggle/working/) that gets preserved as output when you create a version using \"Save & Run All\" \n",
    "# You can also write temporary files to /kaggle/temp/, but they won't be saved outside of the current session"
   ]
  },
  {
   "cell_type": "code",
   "execution_count": 2,
   "id": "2e96af2a",
   "metadata": {
    "execution": {
     "iopub.execute_input": "2022-04-07T08:54:38.116357Z",
     "iopub.status.busy": "2022-04-07T08:54:38.115698Z",
     "iopub.status.idle": "2022-04-07T08:54:39.156538Z",
     "shell.execute_reply": "2022-04-07T08:54:39.157198Z",
     "shell.execute_reply.started": "2022-04-07T08:09:55.985863Z"
    },
    "papermill": {
     "duration": 1.07428,
     "end_time": "2022-04-07T08:54:39.157397",
     "exception": false,
     "start_time": "2022-04-07T08:54:38.083117",
     "status": "completed"
    },
    "tags": []
   },
   "outputs": [],
   "source": [
    "import pandas as pd\n",
    "import numpy as np \n",
    "import matplotlib.pyplot as plt\n",
    "import seaborn as sns\n"
   ]
  },
  {
   "cell_type": "markdown",
   "id": "9af910bd",
   "metadata": {
    "papermill": {
     "duration": 0.029106,
     "end_time": "2022-04-07T08:54:39.216246",
     "exception": false,
     "start_time": "2022-04-07T08:54:39.187140",
     "status": "completed"
    },
    "tags": []
   },
   "source": [
    "# The problem statement is to find wheter the customer exited from the bank or not."
   ]
  },
  {
   "cell_type": "code",
   "execution_count": 3,
   "id": "8e5bc563",
   "metadata": {
    "execution": {
     "iopub.execute_input": "2022-04-07T08:54:39.278421Z",
     "iopub.status.busy": "2022-04-07T08:54:39.277742Z",
     "iopub.status.idle": "2022-04-07T08:54:39.323389Z",
     "shell.execute_reply": "2022-04-07T08:54:39.323898Z",
     "shell.execute_reply.started": "2022-04-07T08:09:56.732719Z"
    },
    "papermill": {
     "duration": 0.078261,
     "end_time": "2022-04-07T08:54:39.324083",
     "exception": false,
     "start_time": "2022-04-07T08:54:39.245822",
     "status": "completed"
    },
    "tags": []
   },
   "outputs": [],
   "source": [
    "df = pd.read_csv('../input/churn-modelling/Churn_Modelling.csv')"
   ]
  },
  {
   "cell_type": "code",
   "execution_count": 4,
   "id": "fd574b0e",
   "metadata": {
    "execution": {
     "iopub.execute_input": "2022-04-07T08:54:39.387547Z",
     "iopub.status.busy": "2022-04-07T08:54:39.386858Z",
     "iopub.status.idle": "2022-04-07T08:54:39.420421Z",
     "shell.execute_reply": "2022-04-07T08:54:39.420930Z",
     "shell.execute_reply.started": "2022-04-07T08:09:56.814919Z"
    },
    "papermill": {
     "duration": 0.067221,
     "end_time": "2022-04-07T08:54:39.421102",
     "exception": false,
     "start_time": "2022-04-07T08:54:39.353881",
     "status": "completed"
    },
    "tags": []
   },
   "outputs": [
    {
     "data": {
      "text/html": [
       "<div>\n",
       "<style scoped>\n",
       "    .dataframe tbody tr th:only-of-type {\n",
       "        vertical-align: middle;\n",
       "    }\n",
       "\n",
       "    .dataframe tbody tr th {\n",
       "        vertical-align: top;\n",
       "    }\n",
       "\n",
       "    .dataframe thead th {\n",
       "        text-align: right;\n",
       "    }\n",
       "</style>\n",
       "<table border=\"1\" class=\"dataframe\">\n",
       "  <thead>\n",
       "    <tr style=\"text-align: right;\">\n",
       "      <th></th>\n",
       "      <th>RowNumber</th>\n",
       "      <th>CustomerId</th>\n",
       "      <th>Surname</th>\n",
       "      <th>CreditScore</th>\n",
       "      <th>Geography</th>\n",
       "      <th>Gender</th>\n",
       "      <th>Age</th>\n",
       "      <th>Tenure</th>\n",
       "      <th>Balance</th>\n",
       "      <th>NumOfProducts</th>\n",
       "      <th>HasCrCard</th>\n",
       "      <th>IsActiveMember</th>\n",
       "      <th>EstimatedSalary</th>\n",
       "      <th>Exited</th>\n",
       "    </tr>\n",
       "  </thead>\n",
       "  <tbody>\n",
       "    <tr>\n",
       "      <th>0</th>\n",
       "      <td>1</td>\n",
       "      <td>15634602</td>\n",
       "      <td>Hargrave</td>\n",
       "      <td>619</td>\n",
       "      <td>France</td>\n",
       "      <td>Female</td>\n",
       "      <td>42</td>\n",
       "      <td>2</td>\n",
       "      <td>0.00</td>\n",
       "      <td>1</td>\n",
       "      <td>1</td>\n",
       "      <td>1</td>\n",
       "      <td>101348.88</td>\n",
       "      <td>1</td>\n",
       "    </tr>\n",
       "    <tr>\n",
       "      <th>1</th>\n",
       "      <td>2</td>\n",
       "      <td>15647311</td>\n",
       "      <td>Hill</td>\n",
       "      <td>608</td>\n",
       "      <td>Spain</td>\n",
       "      <td>Female</td>\n",
       "      <td>41</td>\n",
       "      <td>1</td>\n",
       "      <td>83807.86</td>\n",
       "      <td>1</td>\n",
       "      <td>0</td>\n",
       "      <td>1</td>\n",
       "      <td>112542.58</td>\n",
       "      <td>0</td>\n",
       "    </tr>\n",
       "    <tr>\n",
       "      <th>2</th>\n",
       "      <td>3</td>\n",
       "      <td>15619304</td>\n",
       "      <td>Onio</td>\n",
       "      <td>502</td>\n",
       "      <td>France</td>\n",
       "      <td>Female</td>\n",
       "      <td>42</td>\n",
       "      <td>8</td>\n",
       "      <td>159660.80</td>\n",
       "      <td>3</td>\n",
       "      <td>1</td>\n",
       "      <td>0</td>\n",
       "      <td>113931.57</td>\n",
       "      <td>1</td>\n",
       "    </tr>\n",
       "    <tr>\n",
       "      <th>3</th>\n",
       "      <td>4</td>\n",
       "      <td>15701354</td>\n",
       "      <td>Boni</td>\n",
       "      <td>699</td>\n",
       "      <td>France</td>\n",
       "      <td>Female</td>\n",
       "      <td>39</td>\n",
       "      <td>1</td>\n",
       "      <td>0.00</td>\n",
       "      <td>2</td>\n",
       "      <td>0</td>\n",
       "      <td>0</td>\n",
       "      <td>93826.63</td>\n",
       "      <td>0</td>\n",
       "    </tr>\n",
       "    <tr>\n",
       "      <th>4</th>\n",
       "      <td>5</td>\n",
       "      <td>15737888</td>\n",
       "      <td>Mitchell</td>\n",
       "      <td>850</td>\n",
       "      <td>Spain</td>\n",
       "      <td>Female</td>\n",
       "      <td>43</td>\n",
       "      <td>2</td>\n",
       "      <td>125510.82</td>\n",
       "      <td>1</td>\n",
       "      <td>1</td>\n",
       "      <td>1</td>\n",
       "      <td>79084.10</td>\n",
       "      <td>0</td>\n",
       "    </tr>\n",
       "    <tr>\n",
       "      <th>...</th>\n",
       "      <td>...</td>\n",
       "      <td>...</td>\n",
       "      <td>...</td>\n",
       "      <td>...</td>\n",
       "      <td>...</td>\n",
       "      <td>...</td>\n",
       "      <td>...</td>\n",
       "      <td>...</td>\n",
       "      <td>...</td>\n",
       "      <td>...</td>\n",
       "      <td>...</td>\n",
       "      <td>...</td>\n",
       "      <td>...</td>\n",
       "      <td>...</td>\n",
       "    </tr>\n",
       "    <tr>\n",
       "      <th>9995</th>\n",
       "      <td>9996</td>\n",
       "      <td>15606229</td>\n",
       "      <td>Obijiaku</td>\n",
       "      <td>771</td>\n",
       "      <td>France</td>\n",
       "      <td>Male</td>\n",
       "      <td>39</td>\n",
       "      <td>5</td>\n",
       "      <td>0.00</td>\n",
       "      <td>2</td>\n",
       "      <td>1</td>\n",
       "      <td>0</td>\n",
       "      <td>96270.64</td>\n",
       "      <td>0</td>\n",
       "    </tr>\n",
       "    <tr>\n",
       "      <th>9996</th>\n",
       "      <td>9997</td>\n",
       "      <td>15569892</td>\n",
       "      <td>Johnstone</td>\n",
       "      <td>516</td>\n",
       "      <td>France</td>\n",
       "      <td>Male</td>\n",
       "      <td>35</td>\n",
       "      <td>10</td>\n",
       "      <td>57369.61</td>\n",
       "      <td>1</td>\n",
       "      <td>1</td>\n",
       "      <td>1</td>\n",
       "      <td>101699.77</td>\n",
       "      <td>0</td>\n",
       "    </tr>\n",
       "    <tr>\n",
       "      <th>9997</th>\n",
       "      <td>9998</td>\n",
       "      <td>15584532</td>\n",
       "      <td>Liu</td>\n",
       "      <td>709</td>\n",
       "      <td>France</td>\n",
       "      <td>Female</td>\n",
       "      <td>36</td>\n",
       "      <td>7</td>\n",
       "      <td>0.00</td>\n",
       "      <td>1</td>\n",
       "      <td>0</td>\n",
       "      <td>1</td>\n",
       "      <td>42085.58</td>\n",
       "      <td>1</td>\n",
       "    </tr>\n",
       "    <tr>\n",
       "      <th>9998</th>\n",
       "      <td>9999</td>\n",
       "      <td>15682355</td>\n",
       "      <td>Sabbatini</td>\n",
       "      <td>772</td>\n",
       "      <td>Germany</td>\n",
       "      <td>Male</td>\n",
       "      <td>42</td>\n",
       "      <td>3</td>\n",
       "      <td>75075.31</td>\n",
       "      <td>2</td>\n",
       "      <td>1</td>\n",
       "      <td>0</td>\n",
       "      <td>92888.52</td>\n",
       "      <td>1</td>\n",
       "    </tr>\n",
       "    <tr>\n",
       "      <th>9999</th>\n",
       "      <td>10000</td>\n",
       "      <td>15628319</td>\n",
       "      <td>Walker</td>\n",
       "      <td>792</td>\n",
       "      <td>France</td>\n",
       "      <td>Female</td>\n",
       "      <td>28</td>\n",
       "      <td>4</td>\n",
       "      <td>130142.79</td>\n",
       "      <td>1</td>\n",
       "      <td>1</td>\n",
       "      <td>0</td>\n",
       "      <td>38190.78</td>\n",
       "      <td>0</td>\n",
       "    </tr>\n",
       "  </tbody>\n",
       "</table>\n",
       "<p>10000 rows × 14 columns</p>\n",
       "</div>"
      ],
      "text/plain": [
       "      RowNumber  CustomerId    Surname  CreditScore Geography  Gender  Age  \\\n",
       "0             1    15634602   Hargrave          619    France  Female   42   \n",
       "1             2    15647311       Hill          608     Spain  Female   41   \n",
       "2             3    15619304       Onio          502    France  Female   42   \n",
       "3             4    15701354       Boni          699    France  Female   39   \n",
       "4             5    15737888   Mitchell          850     Spain  Female   43   \n",
       "...         ...         ...        ...          ...       ...     ...  ...   \n",
       "9995       9996    15606229   Obijiaku          771    France    Male   39   \n",
       "9996       9997    15569892  Johnstone          516    France    Male   35   \n",
       "9997       9998    15584532        Liu          709    France  Female   36   \n",
       "9998       9999    15682355  Sabbatini          772   Germany    Male   42   \n",
       "9999      10000    15628319     Walker          792    France  Female   28   \n",
       "\n",
       "      Tenure    Balance  NumOfProducts  HasCrCard  IsActiveMember  \\\n",
       "0          2       0.00              1          1               1   \n",
       "1          1   83807.86              1          0               1   \n",
       "2          8  159660.80              3          1               0   \n",
       "3          1       0.00              2          0               0   \n",
       "4          2  125510.82              1          1               1   \n",
       "...      ...        ...            ...        ...             ...   \n",
       "9995       5       0.00              2          1               0   \n",
       "9996      10   57369.61              1          1               1   \n",
       "9997       7       0.00              1          0               1   \n",
       "9998       3   75075.31              2          1               0   \n",
       "9999       4  130142.79              1          1               0   \n",
       "\n",
       "      EstimatedSalary  Exited  \n",
       "0           101348.88       1  \n",
       "1           112542.58       0  \n",
       "2           113931.57       1  \n",
       "3            93826.63       0  \n",
       "4            79084.10       0  \n",
       "...               ...     ...  \n",
       "9995         96270.64       0  \n",
       "9996        101699.77       0  \n",
       "9997         42085.58       1  \n",
       "9998         92888.52       1  \n",
       "9999         38190.78       0  \n",
       "\n",
       "[10000 rows x 14 columns]"
      ]
     },
     "execution_count": 4,
     "metadata": {},
     "output_type": "execute_result"
    }
   ],
   "source": [
    "df"
   ]
  },
  {
   "cell_type": "code",
   "execution_count": 5,
   "id": "b526a904",
   "metadata": {
    "execution": {
     "iopub.execute_input": "2022-04-07T08:54:39.489016Z",
     "iopub.status.busy": "2022-04-07T08:54:39.488070Z",
     "iopub.status.idle": "2022-04-07T08:54:39.513282Z",
     "shell.execute_reply": "2022-04-07T08:54:39.512735Z",
     "shell.execute_reply.started": "2022-04-07T08:09:56.876154Z"
    },
    "papermill": {
     "duration": 0.062122,
     "end_time": "2022-04-07T08:54:39.513445",
     "exception": false,
     "start_time": "2022-04-07T08:54:39.451323",
     "status": "completed"
    },
    "tags": []
   },
   "outputs": [
    {
     "name": "stdout",
     "output_type": "stream",
     "text": [
      "<class 'pandas.core.frame.DataFrame'>\n",
      "RangeIndex: 10000 entries, 0 to 9999\n",
      "Data columns (total 14 columns):\n",
      " #   Column           Non-Null Count  Dtype  \n",
      "---  ------           --------------  -----  \n",
      " 0   RowNumber        10000 non-null  int64  \n",
      " 1   CustomerId       10000 non-null  int64  \n",
      " 2   Surname          10000 non-null  object \n",
      " 3   CreditScore      10000 non-null  int64  \n",
      " 4   Geography        10000 non-null  object \n",
      " 5   Gender           10000 non-null  object \n",
      " 6   Age              10000 non-null  int64  \n",
      " 7   Tenure           10000 non-null  int64  \n",
      " 8   Balance          10000 non-null  float64\n",
      " 9   NumOfProducts    10000 non-null  int64  \n",
      " 10  HasCrCard        10000 non-null  int64  \n",
      " 11  IsActiveMember   10000 non-null  int64  \n",
      " 12  EstimatedSalary  10000 non-null  float64\n",
      " 13  Exited           10000 non-null  int64  \n",
      "dtypes: float64(2), int64(9), object(3)\n",
      "memory usage: 1.1+ MB\n"
     ]
    }
   ],
   "source": [
    "df.info()"
   ]
  },
  {
   "cell_type": "code",
   "execution_count": 6,
   "id": "3cdeb8b8",
   "metadata": {
    "execution": {
     "iopub.execute_input": "2022-04-07T08:54:39.578504Z",
     "iopub.status.busy": "2022-04-07T08:54:39.577812Z",
     "iopub.status.idle": "2022-04-07T08:54:39.621776Z",
     "shell.execute_reply": "2022-04-07T08:54:39.622290Z",
     "shell.execute_reply.started": "2022-04-07T08:09:56.906634Z"
    },
    "papermill": {
     "duration": 0.0784,
     "end_time": "2022-04-07T08:54:39.622479",
     "exception": false,
     "start_time": "2022-04-07T08:54:39.544079",
     "status": "completed"
    },
    "tags": []
   },
   "outputs": [
    {
     "data": {
      "text/html": [
       "<div>\n",
       "<style scoped>\n",
       "    .dataframe tbody tr th:only-of-type {\n",
       "        vertical-align: middle;\n",
       "    }\n",
       "\n",
       "    .dataframe tbody tr th {\n",
       "        vertical-align: top;\n",
       "    }\n",
       "\n",
       "    .dataframe thead th {\n",
       "        text-align: right;\n",
       "    }\n",
       "</style>\n",
       "<table border=\"1\" class=\"dataframe\">\n",
       "  <thead>\n",
       "    <tr style=\"text-align: right;\">\n",
       "      <th></th>\n",
       "      <th>RowNumber</th>\n",
       "      <th>CustomerId</th>\n",
       "      <th>CreditScore</th>\n",
       "      <th>Age</th>\n",
       "      <th>Tenure</th>\n",
       "      <th>Balance</th>\n",
       "      <th>NumOfProducts</th>\n",
       "      <th>HasCrCard</th>\n",
       "      <th>IsActiveMember</th>\n",
       "      <th>EstimatedSalary</th>\n",
       "      <th>Exited</th>\n",
       "    </tr>\n",
       "  </thead>\n",
       "  <tbody>\n",
       "    <tr>\n",
       "      <th>count</th>\n",
       "      <td>10000.00000</td>\n",
       "      <td>1.000000e+04</td>\n",
       "      <td>10000.000000</td>\n",
       "      <td>10000.000000</td>\n",
       "      <td>10000.000000</td>\n",
       "      <td>10000.000000</td>\n",
       "      <td>10000.000000</td>\n",
       "      <td>10000.00000</td>\n",
       "      <td>10000.000000</td>\n",
       "      <td>10000.000000</td>\n",
       "      <td>10000.000000</td>\n",
       "    </tr>\n",
       "    <tr>\n",
       "      <th>mean</th>\n",
       "      <td>5000.50000</td>\n",
       "      <td>1.569094e+07</td>\n",
       "      <td>650.528800</td>\n",
       "      <td>38.921800</td>\n",
       "      <td>5.012800</td>\n",
       "      <td>76485.889288</td>\n",
       "      <td>1.530200</td>\n",
       "      <td>0.70550</td>\n",
       "      <td>0.515100</td>\n",
       "      <td>100090.239881</td>\n",
       "      <td>0.203700</td>\n",
       "    </tr>\n",
       "    <tr>\n",
       "      <th>std</th>\n",
       "      <td>2886.89568</td>\n",
       "      <td>7.193619e+04</td>\n",
       "      <td>96.653299</td>\n",
       "      <td>10.487806</td>\n",
       "      <td>2.892174</td>\n",
       "      <td>62397.405202</td>\n",
       "      <td>0.581654</td>\n",
       "      <td>0.45584</td>\n",
       "      <td>0.499797</td>\n",
       "      <td>57510.492818</td>\n",
       "      <td>0.402769</td>\n",
       "    </tr>\n",
       "    <tr>\n",
       "      <th>min</th>\n",
       "      <td>1.00000</td>\n",
       "      <td>1.556570e+07</td>\n",
       "      <td>350.000000</td>\n",
       "      <td>18.000000</td>\n",
       "      <td>0.000000</td>\n",
       "      <td>0.000000</td>\n",
       "      <td>1.000000</td>\n",
       "      <td>0.00000</td>\n",
       "      <td>0.000000</td>\n",
       "      <td>11.580000</td>\n",
       "      <td>0.000000</td>\n",
       "    </tr>\n",
       "    <tr>\n",
       "      <th>25%</th>\n",
       "      <td>2500.75000</td>\n",
       "      <td>1.562853e+07</td>\n",
       "      <td>584.000000</td>\n",
       "      <td>32.000000</td>\n",
       "      <td>3.000000</td>\n",
       "      <td>0.000000</td>\n",
       "      <td>1.000000</td>\n",
       "      <td>0.00000</td>\n",
       "      <td>0.000000</td>\n",
       "      <td>51002.110000</td>\n",
       "      <td>0.000000</td>\n",
       "    </tr>\n",
       "    <tr>\n",
       "      <th>50%</th>\n",
       "      <td>5000.50000</td>\n",
       "      <td>1.569074e+07</td>\n",
       "      <td>652.000000</td>\n",
       "      <td>37.000000</td>\n",
       "      <td>5.000000</td>\n",
       "      <td>97198.540000</td>\n",
       "      <td>1.000000</td>\n",
       "      <td>1.00000</td>\n",
       "      <td>1.000000</td>\n",
       "      <td>100193.915000</td>\n",
       "      <td>0.000000</td>\n",
       "    </tr>\n",
       "    <tr>\n",
       "      <th>75%</th>\n",
       "      <td>7500.25000</td>\n",
       "      <td>1.575323e+07</td>\n",
       "      <td>718.000000</td>\n",
       "      <td>44.000000</td>\n",
       "      <td>7.000000</td>\n",
       "      <td>127644.240000</td>\n",
       "      <td>2.000000</td>\n",
       "      <td>1.00000</td>\n",
       "      <td>1.000000</td>\n",
       "      <td>149388.247500</td>\n",
       "      <td>0.000000</td>\n",
       "    </tr>\n",
       "    <tr>\n",
       "      <th>max</th>\n",
       "      <td>10000.00000</td>\n",
       "      <td>1.581569e+07</td>\n",
       "      <td>850.000000</td>\n",
       "      <td>92.000000</td>\n",
       "      <td>10.000000</td>\n",
       "      <td>250898.090000</td>\n",
       "      <td>4.000000</td>\n",
       "      <td>1.00000</td>\n",
       "      <td>1.000000</td>\n",
       "      <td>199992.480000</td>\n",
       "      <td>1.000000</td>\n",
       "    </tr>\n",
       "  </tbody>\n",
       "</table>\n",
       "</div>"
      ],
      "text/plain": [
       "         RowNumber    CustomerId   CreditScore           Age        Tenure  \\\n",
       "count  10000.00000  1.000000e+04  10000.000000  10000.000000  10000.000000   \n",
       "mean    5000.50000  1.569094e+07    650.528800     38.921800      5.012800   \n",
       "std     2886.89568  7.193619e+04     96.653299     10.487806      2.892174   \n",
       "min        1.00000  1.556570e+07    350.000000     18.000000      0.000000   \n",
       "25%     2500.75000  1.562853e+07    584.000000     32.000000      3.000000   \n",
       "50%     5000.50000  1.569074e+07    652.000000     37.000000      5.000000   \n",
       "75%     7500.25000  1.575323e+07    718.000000     44.000000      7.000000   \n",
       "max    10000.00000  1.581569e+07    850.000000     92.000000     10.000000   \n",
       "\n",
       "             Balance  NumOfProducts    HasCrCard  IsActiveMember  \\\n",
       "count   10000.000000   10000.000000  10000.00000    10000.000000   \n",
       "mean    76485.889288       1.530200      0.70550        0.515100   \n",
       "std     62397.405202       0.581654      0.45584        0.499797   \n",
       "min         0.000000       1.000000      0.00000        0.000000   \n",
       "25%         0.000000       1.000000      0.00000        0.000000   \n",
       "50%     97198.540000       1.000000      1.00000        1.000000   \n",
       "75%    127644.240000       2.000000      1.00000        1.000000   \n",
       "max    250898.090000       4.000000      1.00000        1.000000   \n",
       "\n",
       "       EstimatedSalary        Exited  \n",
       "count     10000.000000  10000.000000  \n",
       "mean     100090.239881      0.203700  \n",
       "std       57510.492818      0.402769  \n",
       "min          11.580000      0.000000  \n",
       "25%       51002.110000      0.000000  \n",
       "50%      100193.915000      0.000000  \n",
       "75%      149388.247500      0.000000  \n",
       "max      199992.480000      1.000000  "
      ]
     },
     "execution_count": 6,
     "metadata": {},
     "output_type": "execute_result"
    }
   ],
   "source": [
    "df.describe()"
   ]
  },
  {
   "cell_type": "code",
   "execution_count": 7,
   "id": "ee9e011b",
   "metadata": {
    "execution": {
     "iopub.execute_input": "2022-04-07T08:54:39.691303Z",
     "iopub.status.busy": "2022-04-07T08:54:39.690605Z",
     "iopub.status.idle": "2022-04-07T08:54:40.680199Z",
     "shell.execute_reply": "2022-04-07T08:54:40.680955Z",
     "shell.execute_reply.started": "2022-04-07T08:09:56.969711Z"
    },
    "papermill": {
     "duration": 1.026236,
     "end_time": "2022-04-07T08:54:40.681206",
     "exception": false,
     "start_time": "2022-04-07T08:54:39.654970",
     "status": "completed"
    },
    "tags": []
   },
   "outputs": [
    {
     "data": {
      "image/png": "[encoded data removed]",
      "text/plain": [
       "<Figure size 1080x1080 with 2 Axes>"
      ]
     },
     "metadata": {
      "needs_background": "light"
     },
     "output_type": "display_data"
    }
   ],
   "source": [
    "plt.figure(figsize=(15,15))\n",
    "sns.heatmap(df.corr(),annot=True);"
   ]
  },
  {
   "cell_type": "code",
   "execution_count": 8,
   "id": "7aa66ee5",
   "metadata": {
    "execution": {
     "iopub.execute_input": "2022-04-07T08:54:40.757774Z",
     "iopub.status.busy": "2022-04-07T08:54:40.756749Z",
     "iopub.status.idle": "2022-04-07T08:54:40.766461Z",
     "shell.execute_reply": "2022-04-07T08:54:40.765918Z",
     "shell.execute_reply.started": "2022-04-07T08:09:58.228021Z"
    },
    "papermill": {
     "duration": 0.049014,
     "end_time": "2022-04-07T08:54:40.766632",
     "exception": false,
     "start_time": "2022-04-07T08:54:40.717618",
     "status": "completed"
    },
    "tags": []
   },
   "outputs": [
    {
     "data": {
      "text/plain": [
       "array([[619, 'France', 'Female', ..., 1, 1, 101348.88],\n",
       "       [608, 'Spain', 'Female', ..., 0, 1, 112542.58],\n",
       "       [502, 'France', 'Female', ..., 1, 0, 113931.57],\n",
       "       ...,\n",
       "       [709, 'France', 'Female', ..., 0, 1, 42085.58],\n",
       "       [772, 'Germany', 'Male', ..., 1, 0, 92888.52],\n",
       "       [792, 'France', 'Female', ..., 1, 0, 38190.78]], dtype=object)"
      ]
     },
     "execution_count": 8,
     "metadata": {},
     "output_type": "execute_result"
    }
   ],
   "source": [
    "# Splitting dataset in X and Y\n",
    "X = df.iloc[:,3:13].values\n",
    "Y = df.iloc[:,13].values\n",
    "X"
   ]
  },
  {
   "cell_type": "markdown",
   "id": "01471962",
   "metadata": {
    "papermill": {
     "duration": 0.034536,
     "end_time": "2022-04-07T08:54:40.836709",
     "exception": false,
     "start_time": "2022-04-07T08:54:40.802173",
     "status": "completed"
    },
    "tags": []
   },
   "source": [
    "# Label Encoding"
   ]
  },
  {
   "cell_type": "code",
   "execution_count": 9,
   "id": "d67f5ee9",
   "metadata": {
    "execution": {
     "iopub.execute_input": "2022-04-07T08:54:40.911864Z",
     "iopub.status.busy": "2022-04-07T08:54:40.909332Z",
     "iopub.status.idle": "2022-04-07T08:54:41.061636Z",
     "shell.execute_reply": "2022-04-07T08:54:41.060923Z",
     "shell.execute_reply.started": "2022-04-07T08:12:30.988931Z"
    },
    "papermill": {
     "duration": 0.19011,
     "end_time": "2022-04-07T08:54:41.061802",
     "exception": false,
     "start_time": "2022-04-07T08:54:40.871692",
     "status": "completed"
    },
    "tags": []
   },
   "outputs": [],
   "source": [
    "from sklearn.preprocessing import LabelEncoder,OneHotEncoder\n",
    "from sklearn.compose import ColumnTransformer\n",
    "le = LabelEncoder()\n",
    "oHe = OneHotEncoder()\n",
    "ct = ColumnTransformer(transformers=[('encode',oHe,[1])],remainder='passthrough')"
   ]
  },
  {
   "cell_type": "code",
   "execution_count": 10,
   "id": "22cd2d53",
   "metadata": {
    "execution": {
     "iopub.execute_input": "2022-04-07T08:54:41.140658Z",
     "iopub.status.busy": "2022-04-07T08:54:41.139838Z",
     "iopub.status.idle": "2022-04-07T08:54:41.143226Z",
     "shell.execute_reply": "2022-04-07T08:54:41.143749Z",
     "shell.execute_reply.started": "2022-04-07T08:09:58.334897Z"
    },
    "papermill": {
     "duration": 0.047089,
     "end_time": "2022-04-07T08:54:41.143922",
     "exception": false,
     "start_time": "2022-04-07T08:54:41.096833",
     "status": "completed"
    },
    "tags": []
   },
   "outputs": [
    {
     "name": "stdout",
     "output_type": "stream",
     "text": [
      "[[619 'France' 0 ... 1 1 101348.88]\n",
      " [608 'Spain' 0 ... 0 1 112542.58]\n",
      " [502 'France' 0 ... 1 0 113931.57]\n",
      " ...\n",
      " [709 'France' 0 ... 0 1 42085.58]\n",
      " [772 'Germany' 1 ... 1 0 92888.52]\n",
      " [792 'France' 0 ... 1 0 38190.78]]\n"
     ]
    }
   ],
   "source": [
    "X[:,2] = le.fit_transform(X[:,2])\n",
    "print(X)"
   ]
  },
  {
   "cell_type": "code",
   "execution_count": 11,
   "id": "bd5e6a57",
   "metadata": {
    "execution": {
     "iopub.execute_input": "2022-04-07T08:54:41.224666Z",
     "iopub.status.busy": "2022-04-07T08:54:41.223475Z",
     "iopub.status.idle": "2022-04-07T08:54:41.235875Z",
     "shell.execute_reply": "2022-04-07T08:54:41.235190Z",
     "shell.execute_reply.started": "2022-04-07T08:12:50.378617Z"
    },
    "papermill": {
     "duration": 0.056936,
     "end_time": "2022-04-07T08:54:41.236029",
     "exception": false,
     "start_time": "2022-04-07T08:54:41.179093",
     "status": "completed"
    },
    "tags": []
   },
   "outputs": [],
   "source": [
    "X=np.array(ct.fit_transform(X))"
   ]
  },
  {
   "cell_type": "code",
   "execution_count": 12,
   "id": "93e21995",
   "metadata": {
    "execution": {
     "iopub.execute_input": "2022-04-07T08:54:41.312325Z",
     "iopub.status.busy": "2022-04-07T08:54:41.311667Z",
     "iopub.status.idle": "2022-04-07T08:54:41.313217Z",
     "shell.execute_reply": "2022-04-07T08:54:41.313718Z",
     "shell.execute_reply.started": "2022-04-07T08:13:04.742126Z"
    },
    "papermill": {
     "duration": 0.041707,
     "end_time": "2022-04-07T08:54:41.313885",
     "exception": false,
     "start_time": "2022-04-07T08:54:41.272178",
     "status": "completed"
    },
    "tags": []
   },
   "outputs": [],
   "source": [
    "X = X[:,1:]"
   ]
  },
  {
   "cell_type": "code",
   "execution_count": 13,
   "id": "ab60a8ca",
   "metadata": {
    "execution": {
     "iopub.execute_input": "2022-04-07T08:54:41.388320Z",
     "iopub.status.busy": "2022-04-07T08:54:41.387672Z",
     "iopub.status.idle": "2022-04-07T08:54:41.391947Z",
     "shell.execute_reply": "2022-04-07T08:54:41.392474Z",
     "shell.execute_reply.started": "2022-04-07T08:13:17.525725Z"
    },
    "papermill": {
     "duration": 0.043416,
     "end_time": "2022-04-07T08:54:41.392647",
     "exception": false,
     "start_time": "2022-04-07T08:54:41.349231",
     "status": "completed"
    },
    "tags": []
   },
   "outputs": [
    {
     "name": "stdout",
     "output_type": "stream",
     "text": [
      "[[0.0 0.0 619 ... 1 1 101348.88]\n",
      " [0.0 1.0 608 ... 0 1 112542.58]\n",
      " [0.0 0.0 502 ... 1 0 113931.57]\n",
      " ...\n",
      " [0.0 0.0 709 ... 0 1 42085.58]\n",
      " [1.0 0.0 772 ... 1 0 92888.52]\n",
      " [0.0 0.0 792 ... 1 0 38190.78]]\n"
     ]
    }
   ],
   "source": [
    "print(X)"
   ]
  },
  {
   "cell_type": "markdown",
   "id": "6b66a1f6",
   "metadata": {
    "papermill": {
     "duration": 0.035377,
     "end_time": "2022-04-07T08:54:41.464294",
     "exception": false,
     "start_time": "2022-04-07T08:54:41.428917",
     "status": "completed"
    },
    "tags": []
   },
   "source": [
    "## Splitting the dataset"
   ]
  },
  {
   "cell_type": "code",
   "execution_count": 14,
   "id": "70df1d7b",
   "metadata": {
    "execution": {
     "iopub.execute_input": "2022-04-07T08:54:41.538934Z",
     "iopub.status.busy": "2022-04-07T08:54:41.538244Z",
     "iopub.status.idle": "2022-04-07T08:54:41.587626Z",
     "shell.execute_reply": "2022-04-07T08:54:41.588110Z",
     "shell.execute_reply.started": "2022-04-07T08:14:37.040960Z"
    },
    "papermill": {
     "duration": 0.088374,
     "end_time": "2022-04-07T08:54:41.588287",
     "exception": false,
     "start_time": "2022-04-07T08:54:41.499913",
     "status": "completed"
    },
    "tags": []
   },
   "outputs": [],
   "source": [
    "from sklearn.model_selection import train_test_split"
   ]
  },
  {
   "cell_type": "code",
   "execution_count": 15,
   "id": "fce45c5e",
   "metadata": {
    "execution": {
     "iopub.execute_input": "2022-04-07T08:54:41.663842Z",
     "iopub.status.busy": "2022-04-07T08:54:41.662872Z",
     "iopub.status.idle": "2022-04-07T08:54:41.670747Z",
     "shell.execute_reply": "2022-04-07T08:54:41.671230Z",
     "shell.execute_reply.started": "2022-04-07T08:15:52.632695Z"
    },
    "papermill": {
     "duration": 0.047521,
     "end_time": "2022-04-07T08:54:41.671420",
     "exception": false,
     "start_time": "2022-04-07T08:54:41.623899",
     "status": "completed"
    },
    "tags": []
   },
   "outputs": [],
   "source": [
    "x_train,x_test,y_train,y_test = train_test_split(X,Y,test_size=0.2,random_state=4)"
   ]
  },
  {
   "cell_type": "markdown",
   "id": "8f26ef76",
   "metadata": {
    "papermill": {
     "duration": 0.036052,
     "end_time": "2022-04-07T08:54:41.742974",
     "exception": false,
     "start_time": "2022-04-07T08:54:41.706922",
     "status": "completed"
    },
    "tags": []
   },
   "source": [
    "## Feature Scaling"
   ]
  },
  {
   "cell_type": "code",
   "execution_count": 16,
   "id": "ccb660bd",
   "metadata": {
    "execution": {
     "iopub.execute_input": "2022-04-07T08:54:41.818893Z",
     "iopub.status.busy": "2022-04-07T08:54:41.817872Z",
     "iopub.status.idle": "2022-04-07T08:54:41.821653Z",
     "shell.execute_reply": "2022-04-07T08:54:41.822154Z",
     "shell.execute_reply.started": "2022-04-07T08:19:08.646578Z"
    },
    "papermill": {
     "duration": 0.043348,
     "end_time": "2022-04-07T08:54:41.822319",
     "exception": false,
     "start_time": "2022-04-07T08:54:41.778971",
     "status": "completed"
    },
    "tags": []
   },
   "outputs": [],
   "source": [
    "from sklearn.preprocessing import StandardScaler\n",
    "sc = StandardScaler()"
   ]
  },
  {
   "cell_type": "code",
   "execution_count": 17,
   "id": "5a8c625a",
   "metadata": {
    "execution": {
     "iopub.execute_input": "2022-04-07T08:54:41.906004Z",
     "iopub.status.busy": "2022-04-07T08:54:41.905321Z",
     "iopub.status.idle": "2022-04-07T08:54:41.919182Z",
     "shell.execute_reply": "2022-04-07T08:54:41.919758Z",
     "shell.execute_reply.started": "2022-04-07T08:20:27.750904Z"
    },
    "papermill": {
     "duration": 0.061747,
     "end_time": "2022-04-07T08:54:41.919958",
     "exception": false,
     "start_time": "2022-04-07T08:54:41.858211",
     "status": "completed"
    },
    "tags": []
   },
   "outputs": [],
   "source": [
    "x_train = sc.fit_transform(x_train)\n",
    "x_test = sc.transform(x_test)"
   ]
  },
  {
   "cell_type": "code",
   "execution_count": 18,
   "id": "326f5658",
   "metadata": {
    "execution": {
     "iopub.execute_input": "2022-04-07T08:54:41.994768Z",
     "iopub.status.busy": "2022-04-07T08:54:41.994072Z",
     "iopub.status.idle": "2022-04-07T08:54:42.012860Z",
     "shell.execute_reply": "2022-04-07T08:54:42.012296Z",
     "shell.execute_reply.started": "2022-04-07T08:21:30.752260Z"
    },
    "papermill": {
     "duration": 0.057345,
     "end_time": "2022-04-07T08:54:42.013010",
     "exception": false,
     "start_time": "2022-04-07T08:54:41.955665",
     "status": "completed"
    },
    "tags": []
   },
   "outputs": [
    {
     "data": {
      "text/html": [
       "<div>\n",
       "<style scoped>\n",
       "    .dataframe tbody tr th:only-of-type {\n",
       "        vertical-align: middle;\n",
       "    }\n",
       "\n",
       "    .dataframe tbody tr th {\n",
       "        vertical-align: top;\n",
       "    }\n",
       "\n",
       "    .dataframe thead th {\n",
       "        text-align: right;\n",
       "    }\n",
       "</style>\n",
       "<table border=\"1\" class=\"dataframe\">\n",
       "  <thead>\n",
       "    <tr style=\"text-align: right;\">\n",
       "      <th></th>\n",
       "      <th>0</th>\n",
       "      <th>1</th>\n",
       "      <th>2</th>\n",
       "      <th>3</th>\n",
       "      <th>4</th>\n",
       "      <th>5</th>\n",
       "      <th>6</th>\n",
       "      <th>7</th>\n",
       "      <th>8</th>\n",
       "      <th>9</th>\n",
       "      <th>10</th>\n",
       "    </tr>\n",
       "  </thead>\n",
       "  <tbody>\n",
       "    <tr>\n",
       "      <th>0</th>\n",
       "      <td>-0.582162</td>\n",
       "      <td>-0.576003</td>\n",
       "      <td>-1.118333</td>\n",
       "      <td>0.910489</td>\n",
       "      <td>-0.848398</td>\n",
       "      <td>-0.345883</td>\n",
       "      <td>1.037773</td>\n",
       "      <td>-0.910479</td>\n",
       "      <td>0.644343</td>\n",
       "      <td>-1.035635</td>\n",
       "      <td>1.008864</td>\n",
       "    </tr>\n",
       "    <tr>\n",
       "      <th>1</th>\n",
       "      <td>-0.582162</td>\n",
       "      <td>-0.576003</td>\n",
       "      <td>0.176448</td>\n",
       "      <td>0.910489</td>\n",
       "      <td>0.672795</td>\n",
       "      <td>-1.728031</td>\n",
       "      <td>-1.227144</td>\n",
       "      <td>0.811060</td>\n",
       "      <td>-1.551969</td>\n",
       "      <td>-1.035635</td>\n",
       "      <td>-1.219003</td>\n",
       "    </tr>\n",
       "    <tr>\n",
       "      <th>2</th>\n",
       "      <td>1.717736</td>\n",
       "      <td>-0.576003</td>\n",
       "      <td>1.201914</td>\n",
       "      <td>-1.098311</td>\n",
       "      <td>-0.373025</td>\n",
       "      <td>0.345192</td>\n",
       "      <td>0.898526</td>\n",
       "      <td>-0.910479</td>\n",
       "      <td>0.644343</td>\n",
       "      <td>-1.035635</td>\n",
       "      <td>0.277175</td>\n",
       "    </tr>\n",
       "    <tr>\n",
       "      <th>3</th>\n",
       "      <td>-0.582162</td>\n",
       "      <td>-0.576003</td>\n",
       "      <td>-0.227524</td>\n",
       "      <td>0.910489</td>\n",
       "      <td>-0.753323</td>\n",
       "      <td>0.345192</td>\n",
       "      <td>-1.227144</td>\n",
       "      <td>0.811060</td>\n",
       "      <td>0.644343</td>\n",
       "      <td>-1.035635</td>\n",
       "      <td>-0.099303</td>\n",
       "    </tr>\n",
       "    <tr>\n",
       "      <th>4</th>\n",
       "      <td>1.717736</td>\n",
       "      <td>-0.576003</td>\n",
       "      <td>1.264064</td>\n",
       "      <td>-1.098311</td>\n",
       "      <td>0.292497</td>\n",
       "      <td>1.036266</td>\n",
       "      <td>1.221128</td>\n",
       "      <td>0.811060</td>\n",
       "      <td>0.644343</td>\n",
       "      <td>-1.035635</td>\n",
       "      <td>1.252306</td>\n",
       "    </tr>\n",
       "    <tr>\n",
       "      <th>...</th>\n",
       "      <td>...</td>\n",
       "      <td>...</td>\n",
       "      <td>...</td>\n",
       "      <td>...</td>\n",
       "      <td>...</td>\n",
       "      <td>...</td>\n",
       "      <td>...</td>\n",
       "      <td>...</td>\n",
       "      <td>...</td>\n",
       "      <td>...</td>\n",
       "      <td>...</td>\n",
       "    </tr>\n",
       "    <tr>\n",
       "      <th>7995</th>\n",
       "      <td>-0.582162</td>\n",
       "      <td>-0.576003</td>\n",
       "      <td>0.849734</td>\n",
       "      <td>0.910489</td>\n",
       "      <td>-0.563174</td>\n",
       "      <td>-0.691420</td>\n",
       "      <td>-1.227144</td>\n",
       "      <td>-0.910479</td>\n",
       "      <td>0.644343</td>\n",
       "      <td>0.965592</td>\n",
       "      <td>-1.596115</td>\n",
       "    </tr>\n",
       "    <tr>\n",
       "      <th>7996</th>\n",
       "      <td>-0.582162</td>\n",
       "      <td>-0.576003</td>\n",
       "      <td>-1.698395</td>\n",
       "      <td>-1.098311</td>\n",
       "      <td>-0.468100</td>\n",
       "      <td>-1.036957</td>\n",
       "      <td>0.316151</td>\n",
       "      <td>-0.910479</td>\n",
       "      <td>-1.551969</td>\n",
       "      <td>-1.035635</td>\n",
       "      <td>-1.571492</td>\n",
       "    </tr>\n",
       "    <tr>\n",
       "      <th>7997</th>\n",
       "      <td>-0.582162</td>\n",
       "      <td>-0.576003</td>\n",
       "      <td>0.362896</td>\n",
       "      <td>-1.098311</td>\n",
       "      <td>-0.468100</td>\n",
       "      <td>-0.691420</td>\n",
       "      <td>0.765416</td>\n",
       "      <td>0.811060</td>\n",
       "      <td>0.644343</td>\n",
       "      <td>-1.035635</td>\n",
       "      <td>0.836699</td>\n",
       "    </tr>\n",
       "    <tr>\n",
       "      <th>7998</th>\n",
       "      <td>-0.582162</td>\n",
       "      <td>-0.576003</td>\n",
       "      <td>-0.144658</td>\n",
       "      <td>0.910489</td>\n",
       "      <td>0.197422</td>\n",
       "      <td>-1.036957</td>\n",
       "      <td>-1.227144</td>\n",
       "      <td>0.811060</td>\n",
       "      <td>-1.551969</td>\n",
       "      <td>0.965592</td>\n",
       "      <td>0.050589</td>\n",
       "    </tr>\n",
       "    <tr>\n",
       "      <th>7999</th>\n",
       "      <td>1.717736</td>\n",
       "      <td>-0.576003</td>\n",
       "      <td>-0.382898</td>\n",
       "      <td>-1.098311</td>\n",
       "      <td>-0.848398</td>\n",
       "      <td>-0.691420</td>\n",
       "      <td>0.883920</td>\n",
       "      <td>0.811060</td>\n",
       "      <td>0.644343</td>\n",
       "      <td>-1.035635</td>\n",
       "      <td>-0.778222</td>\n",
       "    </tr>\n",
       "  </tbody>\n",
       "</table>\n",
       "<p>8000 rows × 11 columns</p>\n",
       "</div>"
      ],
      "text/plain": [
       "            0         1         2         3         4         5         6   \\\n",
       "0    -0.582162 -0.576003 -1.118333  0.910489 -0.848398 -0.345883  1.037773   \n",
       "1    -0.582162 -0.576003  0.176448  0.910489  0.672795 -1.728031 -1.227144   \n",
       "2     1.717736 -0.576003  1.201914 -1.098311 -0.373025  0.345192  0.898526   \n",
       "3    -0.582162 -0.576003 -0.227524  0.910489 -0.753323  0.345192 -1.227144   \n",
       "4     1.717736 -0.576003  1.264064 -1.098311  0.292497  1.036266  1.221128   \n",
       "...        ...       ...       ...       ...       ...       ...       ...   \n",
       "7995 -0.582162 -0.576003  0.849734  0.910489 -0.563174 -0.691420 -1.227144   \n",
       "7996 -0.582162 -0.576003 -1.698395 -1.098311 -0.468100 -1.036957  0.316151   \n",
       "7997 -0.582162 -0.576003  0.362896 -1.098311 -0.468100 -0.691420  0.765416   \n",
       "7998 -0.582162 -0.576003 -0.144658  0.910489  0.197422 -1.036957 -1.227144   \n",
       "7999  1.717736 -0.576003 -0.382898 -1.098311 -0.848398 -0.691420  0.883920   \n",
       "\n",
       "            7         8         9         10  \n",
       "0    -0.910479  0.644343 -1.035635  1.008864  \n",
       "1     0.811060 -1.551969 -1.035635 -1.219003  \n",
       "2    -0.910479  0.644343 -1.035635  0.277175  \n",
       "3     0.811060  0.644343 -1.035635 -0.099303  \n",
       "4     0.811060  0.644343 -1.035635  1.252306  \n",
       "...        ...       ...       ...       ...  \n",
       "7995 -0.910479  0.644343  0.965592 -1.596115  \n",
       "7996 -0.910479 -1.551969 -1.035635 -1.571492  \n",
       "7997  0.811060  0.644343 -1.035635  0.836699  \n",
       "7998  0.811060 -1.551969  0.965592  0.050589  \n",
       "7999  0.811060  0.644343 -1.035635 -0.778222  \n",
       "\n",
       "[8000 rows x 11 columns]"
      ]
     },
     "execution_count": 18,
     "metadata": {},
     "output_type": "execute_result"
    }
   ],
   "source": [
    "pd.DataFrame(x_train)"
   ]
  },
  {
   "cell_type": "markdown",
   "id": "61f3dc6d",
   "metadata": {
    "papermill": {
     "duration": 0.036195,
     "end_time": "2022-04-07T08:54:42.085974",
     "exception": false,
     "start_time": "2022-04-07T08:54:42.049779",
     "status": "completed"
    },
    "tags": []
   },
   "source": [
    "## Building ANN"
   ]
  },
  {
   "cell_type": "code",
   "execution_count": 19,
   "id": "5baaa24c",
   "metadata": {
    "execution": {
     "iopub.execute_input": "2022-04-07T08:54:42.161824Z",
     "iopub.status.busy": "2022-04-07T08:54:42.161133Z",
     "iopub.status.idle": "2022-04-07T08:54:47.524057Z",
     "shell.execute_reply": "2022-04-07T08:54:47.523364Z",
     "shell.execute_reply.started": "2022-04-07T08:25:26.552623Z"
    },
    "papermill": {
     "duration": 5.401997,
     "end_time": "2022-04-07T08:54:47.524204",
     "exception": false,
     "start_time": "2022-04-07T08:54:42.122207",
     "status": "completed"
    },
    "tags": []
   },
   "outputs": [],
   "source": [
    "from keras.models import Sequential\n",
    "from keras.layers import Dense"
   ]
  },
  {
   "cell_type": "code",
   "execution_count": 20,
   "id": "eaa9557f",
   "metadata": {
    "execution": {
     "iopub.execute_input": "2022-04-07T08:54:47.605211Z",
     "iopub.status.busy": "2022-04-07T08:54:47.604525Z",
     "iopub.status.idle": "2022-04-07T08:57:11.198895Z",
     "shell.execute_reply": "2022-04-07T08:57:11.199769Z",
     "shell.execute_reply.started": "2022-04-07T08:38:44.815946Z"
    },
    "papermill": {
     "duration": 143.638821,
     "end_time": "2022-04-07T08:57:11.200040",
     "exception": false,
     "start_time": "2022-04-07T08:54:47.561219",
     "status": "completed"
    },
    "tags": []
   },
   "outputs": [
    {
     "name": "stderr",
     "output_type": "stream",
     "text": [
      "2022-04-07 08:54:47.636197: I tensorflow/core/common_runtime/process_util.cc:146] Creating new thread pool with default inter op setting: 2. Tune using inter_op_parallelism_threads for best performance.\n",
      "2022-04-07 08:54:47.800010: I tensorflow/compiler/mlir/mlir_graph_optimization_pass.cc:185] None of the MLIR Optimization Passes are enabled (registered 2)\n"
     ]
    },
    {
     "name": "stdout",
     "output_type": "stream",
     "text": [
      "Epoch 1/100\n",
      "800/800 [==============================] - 2s 1ms/step - loss: 0.4885 - accuracy: 0.7937\n",
      "Epoch 2/100\n",
      "800/800 [==============================] - 1s 1ms/step - loss: 0.4302 - accuracy: 0.7949\n",
      "Epoch 3/100\n",
      "800/800 [==============================] - 1s 1ms/step - loss: 0.4248 - accuracy: 0.7949\n",
      "Epoch 4/100\n",
      "800/800 [==============================] - 1s 1ms/step - loss: 0.4206 - accuracy: 0.8158\n",
      "Epoch 5/100\n",
      "800/800 [==============================] - 1s 1ms/step - loss: 0.4179 - accuracy: 0.8255\n",
      "Epoch 6/100\n",
      "800/800 [==============================] - 1s 1ms/step - loss: 0.4160 - accuracy: 0.8294\n",
      "Epoch 7/100\n",
      "800/800 [==============================] - 1s 1ms/step - loss: 0.4151 - accuracy: 0.8304\n",
      "Epoch 8/100\n",
      "800/800 [==============================] - 1s 1ms/step - loss: 0.4131 - accuracy: 0.8305\n",
      "Epoch 9/100\n",
      "800/800 [==============================] - 1s 1ms/step - loss: 0.4122 - accuracy: 0.8324\n",
      "Epoch 10/100\n",
      "800/800 [==============================] - 1s 2ms/step - loss: 0.4112 - accuracy: 0.8326\n",
      "Epoch 11/100\n",
      "800/800 [==============================] - 1s 1ms/step - loss: 0.4093 - accuracy: 0.8328\n",
      "Epoch 12/100\n",
      "800/800 [==============================] - 1s 1ms/step - loss: 0.4091 - accuracy: 0.8325\n",
      "Epoch 13/100\n",
      "800/800 [==============================] - 1s 1ms/step - loss: 0.4087 - accuracy: 0.8332\n",
      "Epoch 14/100\n",
      "800/800 [==============================] - 1s 1ms/step - loss: 0.4078 - accuracy: 0.8336\n",
      "Epoch 15/100\n",
      "800/800 [==============================] - 1s 1ms/step - loss: 0.4074 - accuracy: 0.8338\n",
      "Epoch 16/100\n",
      "800/800 [==============================] - 1s 1ms/step - loss: 0.4071 - accuracy: 0.8328\n",
      "Epoch 17/100\n",
      "800/800 [==============================] - 1s 1ms/step - loss: 0.4071 - accuracy: 0.8340\n",
      "Epoch 18/100\n",
      "800/800 [==============================] - 1s 1ms/step - loss: 0.4063 - accuracy: 0.8345\n",
      "Epoch 19/100\n",
      "800/800 [==============================] - 1s 1ms/step - loss: 0.4064 - accuracy: 0.8330\n",
      "Epoch 20/100\n",
      "800/800 [==============================] - 1s 1ms/step - loss: 0.4062 - accuracy: 0.8328\n",
      "Epoch 21/100\n",
      "800/800 [==============================] - 1s 1ms/step - loss: 0.4054 - accuracy: 0.8334\n",
      "Epoch 22/100\n",
      "800/800 [==============================] - 1s 1ms/step - loss: 0.4052 - accuracy: 0.8331\n",
      "Epoch 23/100\n",
      "800/800 [==============================] - 1s 1ms/step - loss: 0.4053 - accuracy: 0.8336\n",
      "Epoch 24/100\n",
      "800/800 [==============================] - 1s 1ms/step - loss: 0.4045 - accuracy: 0.8341\n",
      "Epoch 25/100\n",
      "800/800 [==============================] - 1s 1ms/step - loss: 0.4048 - accuracy: 0.8341\n",
      "Epoch 26/100\n",
      "800/800 [==============================] - 1s 1ms/step - loss: 0.4039 - accuracy: 0.8320\n",
      "Epoch 27/100\n",
      "800/800 [==============================] - 1s 1ms/step - loss: 0.4046 - accuracy: 0.8340\n",
      "Epoch 28/100\n",
      "800/800 [==============================] - 1s 1ms/step - loss: 0.4048 - accuracy: 0.8324\n",
      "Epoch 29/100\n",
      "800/800 [==============================] - 1s 1ms/step - loss: 0.4045 - accuracy: 0.8339\n",
      "Epoch 30/100\n",
      "800/800 [==============================] - 1s 1ms/step - loss: 0.4044 - accuracy: 0.8335\n",
      "Epoch 31/100\n",
      "800/800 [==============================] - 1s 2ms/step - loss: 0.4041 - accuracy: 0.8316\n",
      "Epoch 32/100\n",
      "800/800 [==============================] - 1s 1ms/step - loss: 0.4042 - accuracy: 0.8345\n",
      "Epoch 33/100\n",
      "800/800 [==============================] - 1s 1ms/step - loss: 0.4039 - accuracy: 0.8332\n",
      "Epoch 34/100\n",
      "800/800 [==============================] - 1s 1ms/step - loss: 0.4041 - accuracy: 0.8334\n",
      "Epoch 35/100\n",
      "800/800 [==============================] - 1s 1ms/step - loss: 0.4042 - accuracy: 0.8336\n",
      "Epoch 36/100\n",
      "800/800 [==============================] - 1s 1ms/step - loss: 0.4034 - accuracy: 0.8338\n",
      "Epoch 37/100\n",
      "800/800 [==============================] - 1s 1ms/step - loss: 0.4040 - accuracy: 0.8322\n",
      "Epoch 38/100\n",
      "800/800 [==============================] - 1s 1ms/step - loss: 0.4035 - accuracy: 0.8340\n",
      "Epoch 39/100\n",
      "800/800 [==============================] - 1s 2ms/step - loss: 0.4038 - accuracy: 0.8341\n",
      "Epoch 40/100\n",
      "800/800 [==============================] - 1s 1ms/step - loss: 0.4034 - accuracy: 0.8335\n",
      "Epoch 41/100\n",
      "800/800 [==============================] - 1s 1ms/step - loss: 0.4033 - accuracy: 0.8344\n",
      "Epoch 42/100\n",
      "800/800 [==============================] - 1s 1ms/step - loss: 0.4032 - accuracy: 0.8347\n",
      "Epoch 43/100\n",
      "800/800 [==============================] - 1s 1ms/step - loss: 0.4034 - accuracy: 0.8322\n",
      "Epoch 44/100\n",
      "800/800 [==============================] - 1s 1ms/step - loss: 0.4034 - accuracy: 0.8334\n",
      "Epoch 45/100\n",
      "800/800 [==============================] - 1s 1ms/step - loss: 0.4034 - accuracy: 0.8334\n",
      "Epoch 46/100\n",
      "800/800 [==============================] - 1s 1ms/step - loss: 0.4036 - accuracy: 0.8332\n",
      "Epoch 47/100\n",
      "800/800 [==============================] - 1s 1ms/step - loss: 0.4037 - accuracy: 0.8330\n",
      "Epoch 48/100\n",
      "800/800 [==============================] - 1s 1ms/step - loss: 0.4031 - accuracy: 0.8331\n",
      "Epoch 49/100\n",
      "800/800 [==============================] - 1s 1ms/step - loss: 0.4029 - accuracy: 0.8339\n",
      "Epoch 50/100\n",
      "800/800 [==============================] - 1s 1ms/step - loss: 0.4033 - accuracy: 0.8322\n",
      "Epoch 51/100\n",
      "800/800 [==============================] - 1s 1ms/step - loss: 0.4030 - accuracy: 0.8320\n",
      "Epoch 52/100\n",
      "800/800 [==============================] - 1s 1ms/step - loss: 0.4033 - accuracy: 0.8336\n",
      "Epoch 53/100\n",
      "800/800 [==============================] - 1s 1ms/step - loss: 0.4031 - accuracy: 0.8345\n",
      "Epoch 54/100\n",
      "800/800 [==============================] - 1s 1ms/step - loss: 0.4030 - accuracy: 0.8342\n",
      "Epoch 55/100\n",
      "800/800 [==============================] - 1s 1ms/step - loss: 0.4034 - accuracy: 0.8340\n",
      "Epoch 56/100\n",
      "800/800 [==============================] - 1s 1ms/step - loss: 0.4035 - accuracy: 0.8331\n",
      "Epoch 57/100\n",
      "800/800 [==============================] - 1s 1ms/step - loss: 0.4031 - accuracy: 0.8329\n",
      "Epoch 58/100\n",
      "800/800 [==============================] - 1s 1ms/step - loss: 0.4028 - accuracy: 0.8328\n",
      "Epoch 59/100\n",
      "800/800 [==============================] - 1s 1ms/step - loss: 0.4027 - accuracy: 0.8324\n",
      "Epoch 60/100\n",
      "800/800 [==============================] - 1s 1ms/step - loss: 0.4031 - accuracy: 0.8346\n",
      "Epoch 61/100\n",
      "800/800 [==============================] - 1s 1ms/step - loss: 0.4028 - accuracy: 0.8339\n",
      "Epoch 62/100\n",
      "800/800 [==============================] - 1s 1ms/step - loss: 0.4033 - accuracy: 0.8340\n",
      "Epoch 63/100\n",
      "800/800 [==============================] - 1s 1ms/step - loss: 0.4028 - accuracy: 0.8339\n",
      "Epoch 64/100\n",
      "800/800 [==============================] - 1s 1ms/step - loss: 0.4032 - accuracy: 0.8328\n",
      "Epoch 65/100\n",
      "800/800 [==============================] - 1s 1ms/step - loss: 0.4027 - accuracy: 0.8353\n",
      "Epoch 66/100\n",
      "800/800 [==============================] - 1s 1ms/step - loss: 0.4026 - accuracy: 0.8326\n",
      "Epoch 67/100\n",
      "800/800 [==============================] - 1s 1ms/step - loss: 0.4025 - accuracy: 0.8339\n",
      "Epoch 68/100\n",
      "800/800 [==============================] - 1s 1ms/step - loss: 0.4029 - accuracy: 0.8324\n",
      "Epoch 69/100\n",
      "800/800 [==============================] - 1s 2ms/step - loss: 0.4029 - accuracy: 0.8340\n",
      "Epoch 70/100\n",
      "800/800 [==============================] - 1s 2ms/step - loss: 0.4028 - accuracy: 0.8330\n",
      "Epoch 71/100\n",
      "800/800 [==============================] - 1s 1ms/step - loss: 0.4024 - accuracy: 0.8342\n",
      "Epoch 72/100\n",
      "800/800 [==============================] - 1s 1ms/step - loss: 0.4024 - accuracy: 0.8330\n",
      "Epoch 73/100\n",
      "800/800 [==============================] - 1s 1ms/step - loss: 0.4029 - accuracy: 0.8339\n",
      "Epoch 74/100\n",
      "800/800 [==============================] - 1s 1ms/step - loss: 0.4023 - accuracy: 0.8342\n",
      "Epoch 75/100\n",
      "800/800 [==============================] - 1s 1ms/step - loss: 0.4024 - accuracy: 0.8332\n",
      "Epoch 76/100\n",
      "800/800 [==============================] - 1s 1ms/step - loss: 0.4025 - accuracy: 0.8334\n",
      "Epoch 77/100\n",
      "800/800 [==============================] - 1s 1ms/step - loss: 0.4027 - accuracy: 0.8340\n",
      "Epoch 78/100\n",
      "800/800 [==============================] - 1s 1ms/step - loss: 0.4030 - accuracy: 0.8331\n",
      "Epoch 79/100\n",
      "800/800 [==============================] - 1s 1ms/step - loss: 0.4022 - accuracy: 0.8329\n",
      "Epoch 80/100\n",
      "800/800 [==============================] - 1s 1ms/step - loss: 0.4024 - accuracy: 0.8330\n",
      "Epoch 81/100\n",
      "800/800 [==============================] - 1s 1ms/step - loss: 0.4022 - accuracy: 0.8339\n",
      "Epoch 82/100\n",
      "800/800 [==============================] - 1s 1ms/step - loss: 0.4022 - accuracy: 0.8346\n",
      "Epoch 83/100\n",
      "800/800 [==============================] - 1s 1ms/step - loss: 0.4024 - accuracy: 0.8336\n",
      "Epoch 84/100\n",
      "800/800 [==============================] - 1s 1ms/step - loss: 0.4020 - accuracy: 0.8326\n",
      "Epoch 85/100\n",
      "800/800 [==============================] - 1s 1ms/step - loss: 0.4027 - accuracy: 0.8329\n",
      "Epoch 86/100\n",
      "800/800 [==============================] - 1s 1ms/step - loss: 0.4026 - accuracy: 0.8338\n",
      "Epoch 87/100\n",
      "800/800 [==============================] - 1s 1ms/step - loss: 0.4022 - accuracy: 0.8324\n",
      "Epoch 88/100\n",
      "800/800 [==============================] - 1s 1ms/step - loss: 0.4022 - accuracy: 0.8330\n",
      "Epoch 89/100\n",
      "800/800 [==============================] - 1s 1ms/step - loss: 0.4023 - accuracy: 0.8344\n",
      "Epoch 90/100\n",
      "800/800 [==============================] - 1s 1ms/step - loss: 0.4025 - accuracy: 0.8319\n",
      "Epoch 91/100\n",
      "800/800 [==============================] - 1s 1ms/step - loss: 0.4022 - accuracy: 0.8325\n",
      "Epoch 92/100\n",
      "800/800 [==============================] - 1s 1ms/step - loss: 0.4020 - accuracy: 0.8345\n",
      "Epoch 93/100\n",
      "800/800 [==============================] - 1s 1ms/step - loss: 0.4025 - accuracy: 0.8334\n",
      "Epoch 94/100\n",
      "800/800 [==============================] - 1s 1ms/step - loss: 0.4019 - accuracy: 0.8335\n",
      "Epoch 95/100\n",
      "800/800 [==============================] - 1s 1ms/step - loss: 0.4023 - accuracy: 0.8339\n",
      "Epoch 96/100\n",
      "800/800 [==============================] - 1s 1ms/step - loss: 0.4020 - accuracy: 0.8329\n",
      "Epoch 97/100\n",
      "800/800 [==============================] - 1s 1ms/step - loss: 0.4022 - accuracy: 0.8328\n",
      "Epoch 98/100\n",
      "800/800 [==============================] - 1s 2ms/step - loss: 0.4023 - accuracy: 0.8338\n",
      "Epoch 99/100\n",
      "800/800 [==============================] - 1s 2ms/step - loss: 0.4024 - accuracy: 0.8329\n",
      "Epoch 100/100\n",
      "800/800 [==============================] - 1s 1ms/step - loss: 0.4017 - accuracy: 0.8326\n"
     ]
    },
    {
     "data": {
      "text/plain": [
       "<keras.callbacks.History at 0x7f31b1ed0950>"
      ]
     },
     "execution_count": 20,
     "metadata": {},
     "output_type": "execute_result"
    }
   ],
   "source": [
    "classifier = Sequential()\n",
    "classifier.add(Dense(units=6,kernel_initializer='uniform',activation='relu',input_dim=11))\n",
    "classifier.add(Dense(units=6,kernel_initializer='uniform',activation='relu'))\n",
    "classifier.add(Dense(units=1,kernel_initializer='uniform',activation='sigmoid'))\n",
    "classifier.compile(optimizer='adam',loss='binary_crossentropy',metrics=['accuracy'])\n",
    "classifier.fit(x_train,y_train,batch_size=10,epochs=100)"
   ]
  },
  {
   "cell_type": "code",
   "execution_count": 21,
   "id": "fba4398c",
   "metadata": {
    "execution": {
     "iopub.execute_input": "2022-04-07T08:57:13.007799Z",
     "iopub.status.busy": "2022-04-07T08:57:13.007066Z",
     "iopub.status.idle": "2022-04-07T08:57:13.209859Z",
     "shell.execute_reply": "2022-04-07T08:57:13.209090Z",
     "shell.execute_reply.started": "2022-04-07T08:44:00.744754Z"
    },
    "papermill": {
     "duration": 1.115998,
     "end_time": "2022-04-07T08:57:13.210066",
     "exception": false,
     "start_time": "2022-04-07T08:57:12.094068",
     "status": "completed"
    },
    "tags": []
   },
   "outputs": [
    {
     "name": "stdout",
     "output_type": "stream",
     "text": [
      "[[False]\n",
      " [False]\n",
      " [False]\n",
      " ...\n",
      " [False]\n",
      " [ True]\n",
      " [False]]\n"
     ]
    }
   ],
   "source": [
    "y_pred = classifier.predict(x_test)\n",
    "y_pred= (y_pred>0.5)\n",
    "print(y_pred)"
   ]
  },
  {
   "cell_type": "markdown",
   "id": "e17679d8",
   "metadata": {
    "papermill": {
     "duration": 0.875337,
     "end_time": "2022-04-07T08:57:14.985816",
     "exception": false,
     "start_time": "2022-04-07T08:57:14.110479",
     "status": "completed"
    },
    "tags": []
   },
   "source": [
    "## Validation"
   ]
  },
  {
   "cell_type": "code",
   "execution_count": 22,
   "id": "beca90dd",
   "metadata": {
    "execution": {
     "iopub.execute_input": "2022-04-07T08:57:16.734429Z",
     "iopub.status.busy": "2022-04-07T08:57:16.733397Z",
     "iopub.status.idle": "2022-04-07T08:57:16.736442Z",
     "shell.execute_reply": "2022-04-07T08:57:16.735886Z",
     "shell.execute_reply.started": "2022-04-07T08:44:45.991588Z"
    },
    "papermill": {
     "duration": 0.876714,
     "end_time": "2022-04-07T08:57:16.736608",
     "exception": false,
     "start_time": "2022-04-07T08:57:15.859894",
     "status": "completed"
    },
    "tags": []
   },
   "outputs": [],
   "source": [
    "from sklearn.metrics import confusion_matrix,accuracy_score"
   ]
  },
  {
   "cell_type": "code",
   "execution_count": 23,
   "id": "f5fa6085",
   "metadata": {
    "execution": {
     "iopub.execute_input": "2022-04-07T08:57:18.553733Z",
     "iopub.status.busy": "2022-04-07T08:57:18.553027Z",
     "iopub.status.idle": "2022-04-07T08:57:18.556850Z",
     "shell.execute_reply": "2022-04-07T08:57:18.556185Z",
     "shell.execute_reply.started": "2022-04-07T08:45:16.572372Z"
    },
    "papermill": {
     "duration": 0.954108,
     "end_time": "2022-04-07T08:57:18.556996",
     "exception": false,
     "start_time": "2022-04-07T08:57:17.602888",
     "status": "completed"
    },
    "tags": []
   },
   "outputs": [
    {
     "data": {
      "text/plain": [
       "array([[1555,  261],\n",
       "       [  49,  135]])"
      ]
     },
     "execution_count": 23,
     "metadata": {},
     "output_type": "execute_result"
    }
   ],
   "source": [
    "cm = confusion_matrix(y_pred,y_test)\n",
    "cm"
   ]
  },
  {
   "cell_type": "markdown",
   "id": "d3ff524f",
   "metadata": {
    "papermill": {
     "duration": 0.860895,
     "end_time": "2022-04-07T08:57:20.285250",
     "exception": false,
     "start_time": "2022-04-07T08:57:19.424355",
     "status": "completed"
    },
    "tags": []
   },
   "source": [
    "* 1549 True values are correctly predicted true.\n",
    "* 259 False values are incorreclty predicted True.\n",
    "* 55 True values are incorrectly predicted False.\n",
    "* 137 False values are corretly predicted False."
   ]
  },
  {
   "cell_type": "code",
   "execution_count": 24,
   "id": "c2e73674",
   "metadata": {
    "execution": {
     "iopub.execute_input": "2022-04-07T08:57:22.025810Z",
     "iopub.status.busy": "2022-04-07T08:57:22.025027Z",
     "iopub.status.idle": "2022-04-07T08:57:22.030444Z",
     "shell.execute_reply": "2022-04-07T08:57:22.031133Z",
     "shell.execute_reply.started": "2022-04-07T08:52:41.249263Z"
    },
    "papermill": {
     "duration": 0.881062,
     "end_time": "2022-04-07T08:57:22.031366",
     "exception": false,
     "start_time": "2022-04-07T08:57:21.150304",
     "status": "completed"
    },
    "tags": []
   },
   "outputs": [
    {
     "data": {
      "text/plain": [
       "0.845"
      ]
     },
     "execution_count": 24,
     "metadata": {},
     "output_type": "execute_result"
    }
   ],
   "source": [
    "accuracy_score(y_pred,y_test)"
   ]
  },
  {
   "cell_type": "markdown",
   "id": "331e7174",
   "metadata": {
    "papermill": {
     "duration": 0.865512,
     "end_time": "2022-04-07T08:57:23.792052",
     "exception": false,
     "start_time": "2022-04-07T08:57:22.926540",
     "status": "completed"
    },
    "tags": []
   },
   "source": [
    "---"
   ]
  }
 ],
 "metadata": {
  "kernelspec": {
   "display_name": "Python 3",
   "language": "python",
   "name": "python3"
  },
  "language_info": {
   "codemirror_mode": {
    "name": "ipython",
    "version": 3
   },
   "file_extension": ".py",
   "mimetype": "text/x-python",
   "name": "python",
   "nbconvert_exporter": "python",
   "pygments_lexer": "ipython3",
   "version": "3.7.12"
  },
  "papermill": {
   "default_parameters": {},
   "duration": 179.937722,
   "end_time": "2022-04-07T08:57:27.964789",
   "environment_variables": {},
   "exception": null,
   "input_path": "__notebook__.ipynb",
   "output_path": "__notebook__.ipynb",
   "parameters": {},
   "start_time": "2022-04-07T08:54:28.027067",
   "version": "2.3.3"
  }
 },
 "nbformat": 4,
 "nbformat_minor": 5
}
